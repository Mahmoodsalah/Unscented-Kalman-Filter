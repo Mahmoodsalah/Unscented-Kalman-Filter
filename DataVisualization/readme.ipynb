{
 "cells": [
  {
   "cell_type": "markdown",
   "metadata": {
    "deletable": true,
    "editable": true
   },
   "source": [
    "# Unscented Kalman Filter Project Starter Code\n",
    "Implement Unscented Kalman Filter (UKF) to track bicycle arround Self-Driving Car using Lidar and Radar Sensors.\n",
    "This part from Self-Driving Car Engineer Nanodegree Program \n",
    "\n",
    "---\n",
    "## Results\n",
    "\n",
    "Required result:  px, py, vx, and vy RMSE should be less than or equal to the values [.09, .10, .40, .30].\n",
    "My Result: [0.07,0.08,0.35,0.27]\n",
    "\n",
    "## Data Visualization\n",
    "Plots below showing how the UKF can track the moving object (bicycle) \n",
    "\n",
    "Difference between Positions of UKF Estimation, Ground truth value and Measurment \n",
    "![alt text](figures/UKFmainplot.png)\n",
    "\n",
    "Note: ground truth not appear because its totally below the UKF estimation (high accurate)\n",
    "\n",
    "\n",
    "### Consistency Check  Normalized Innovation Squared (NIS) for Radar sensor\n",
    "\n",
    "![](figures/nis_radar_output.png)\n",
    "\n",
    "so we can make sure that we not either overestimate or underestiamte the uncertainty of measurement prediction                             \n",
    "\n",
    "### Consistency Check NIS for  Lidar sensor\n",
    "\n",
    "![](figures/nis_lidar_output.png)\n",
    "\n",
    "so we can make sure that we not either overestimate or underestiamte the uncertainty of measurement prediction                             \n",
    "\n",
    "\n",
    "\n",
    "## Dependencies\n",
    "\n",
    "* cmake >= v3.5\n",
    "* make >= v4.1\n",
    "* gcc/g++ >= v5.4\n",
    "\n",
    "## Basic Build Instructions\n",
    "\n",
    "1. Clone this repo.\n",
    "2. Make a build directory: `mkdir build && cd build`\n",
    "3. Compile: `cmake .. && make`\n",
    "4. Run it: `./UnscentedKF path/to/input.txt path/to/output.txt`. You can find\n",
    "   some sample inputs in 'data/'.\n",
    "    - eg. `./UnscentedKF ../data/obj_pose-laser-radar-synthetic-input.txt`\n",
    "\n",
    "\n",
    "\n",
    "\n",
    "## Generating Additional Data\n",
    "\n",
    "\n",
    "If you'd like to generate your own radar and lidar data, see the\n",
    "[utilities repo](https://github.com/udacity/CarND-Mercedes-SF-Utilities) for\n",
    "Matlab scripts that can generate additional data.\n",
    "\n"
   ]
  },
  {
   "cell_type": "code",
   "execution_count": null,
   "metadata": {
    "collapsed": true,
    "deletable": true,
    "editable": true
   },
   "outputs": [],
   "source": []
  }
 ],
 "metadata": {
  "kernelspec": {
   "display_name": "Python 3",
   "language": "python",
   "name": "python3"
  },
  "language_info": {
   "codemirror_mode": {
    "name": "ipython",
    "version": 3
   },
   "file_extension": ".py",
   "mimetype": "text/x-python",
   "name": "python",
   "nbconvert_exporter": "python",
   "pygments_lexer": "ipython3",
   "version": "3.5.2"
  },
  "widgets": {
   "state": {},
   "version": "1.1.2"
  }
 },
 "nbformat": 4,
 "nbformat_minor": 2
}
